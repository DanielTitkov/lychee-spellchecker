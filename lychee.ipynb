{
 "cells": [
  {
   "cell_type": "code",
   "execution_count": 19,
   "metadata": {},
   "outputs": [],
   "source": [
    "import tqdm\n",
    "import re\n",
    "import numpy as np\n",
    "from collections import Counter\n",
    "from itertools import product\n",
    "import random\n",
    "import pickle\n",
    "import urllib\n",
    "import gzip"
   ]
  },
  {
   "cell_type": "code",
   "execution_count": 20,
   "metadata": {},
   "outputs": [],
   "source": [
    "class LanguageModel():\n",
    "    def __init__(self, order, lambdas, counts=None):\n",
    "        self.order = order\n",
    "        self.lambdas = lambdas\n",
    "        if counts == 'default':\n",
    "            print('... please wait ... loading model ...')\n",
    "            self.counts = pickle.load(gzip.open('default.pkl.gz'))\n",
    "        else: self.counts = counts\n",
    "        \n",
    "    def product(self, nums):\n",
    "        \"Multiply the numbers together.  (Like `sum`, but with multiplication.)\"\n",
    "        result = 1\n",
    "        for x in nums: result *= x\n",
    "        return result\n",
    "\n",
    "    def get_ngrams(self, tokens, n):\n",
    "        return [' '.join(tokens[i:i+n]) for i, token in enumerate(tokens)]\n",
    "    \n",
    "    def get_counts(self, corpus, order):  \n",
    "        counts = {'n' + str(i) : Counter(self.get_ngrams(corpus, n=i)) for i in range(1, order+1)}\n",
    "        counts['n0'] = {'':len(corpus)}\n",
    "        return counts\n",
    "    \n",
    "    def get_prob(self, counts, word, context=''):\n",
    "        '''With Laplace shoothing as yet.\n",
    "        Not for public use.'''\n",
    "        order = len(context.split())+1\n",
    "        separator = ' ' if order > 1 else ''\n",
    "        return (counts['n'+str(order)][separator.join([context, word])] + 1) / \\\n",
    "               (counts['n'+str(order-1)][context] + len(counts['n'+str(order)]))\n",
    "        \n",
    "    def get_logprob(self, counts, word, context=''):\n",
    "        return np.log(self.get_prob(counts, word, context))\n",
    "    \n",
    "    def get_following(self, counts, context):\n",
    "        '''Slow as hell. \n",
    "        To optimize might use embedded dictionaries.'''\n",
    "        order = len(context.split())+1\n",
    "        return sorted(\n",
    "            [(k.split()[-1], v, self.get_prob(counts, k.split()[-1], context)) \\\n",
    "            for k, v in counts['n'+str(order)].items()                         \\\n",
    "            if re.match(context+' '+'\\w+', k)],                                \\\n",
    "            key=lambda x:x[1], reverse=True)   \n",
    "    \n",
    "    def get_string_probs(self, counts, string, order, log=True):\n",
    "        prob_fun = self.get_logprob if log else self.get_prob\n",
    "        tokens = string.split()\n",
    "        probs = []\n",
    "        for i in range(len(tokens)):\n",
    "            context = ' '.join(tokens[i-order+1:i]) if i>=order else ' '.join(tokens[:i])\n",
    "            prob = prob_fun(counts, word = tokens[i], context = context)\n",
    "            probs.append(prob)\n",
    "        return probs\n",
    "    \n",
    "    def interpolate(self, counts, string, order, log=True, lambdas='default'):\n",
    "        lmbd = self.lambdas if lambdas == 'default' else lambdas\n",
    "        aggregate = sum if log else self.product\n",
    "        probs = [self.get_string_probs(counts, string, order=i, log=log) \\\n",
    "                 for i in range(1, order+1)]\n",
    "        probs_interpolated = []\n",
    "        for tup in zip(*probs):\n",
    "            prob_token = 0\n",
    "            for i in range(len(tup)):\n",
    "                prob_token += tup[i] * lmbd[i]\n",
    "            probs_interpolated.append(prob_token)\n",
    "        return aggregate(probs_interpolated)\n",
    "    \n",
    "    def fit(self, corpus):\n",
    "        self.counts = self.get_counts(corpus, self.order)\n",
    "        \n",
    "    def prob(self, string, log=False):\n",
    "        return self.interpolate(self.counts, string, self.order, log=log)\n",
    "    \n",
    "    def context_prob(self, word, context='', log=False):\n",
    "        prob_fun = self.get_logprob if log else self.get_prob\n",
    "        c = context.split()\n",
    "        history = ' '.join(c) if len(c) < self.order else ' '.join(c[-self.order+1:])\n",
    "        return prob_fun(self.counts, word, history)  \n",
    "    \n",
    "    def following(self, context):\n",
    "        c = context.split()\n",
    "        history = ' '.join(c) if len(c) < self.order else ' '.join(c[-self.order+1:])\n",
    "        return self.get_following(self.counts, history)"
   ]
  },
  {
   "cell_type": "code",
   "execution_count": 21,
   "metadata": {},
   "outputs": [],
   "source": [
    "class Candidator():\n",
    "    def __init__(self, dictionary, abc='йцукенгшщзхъфывапролджэячсмитьбю', check_all=True):\n",
    "        self.abc = abc\n",
    "        self.dictionary = set(dictionary)\n",
    "        self.check_all = check_all\n",
    "        \n",
    "    def edits(self, word): # mostly from norvig, modified for faster dict search\n",
    "        letters = self.abc\n",
    "        d = self.dictionary\n",
    "        splits = [(word[:i], word[i:]) for i in range(len(word) + 1)]\n",
    "        deletes = [ed for ed in [L + R[1:] for L, R in splits if R] if ed in d]\n",
    "        transposes = [ed for ed in [L + R[1] + R[0] + R[2:] for L, R in splits if len(R)>1] \\\n",
    "                      if ed in d]\n",
    "        replaces = [ed for ed in [L + c + R[1:] for L, R in splits if R for c in letters] \\\n",
    "                    if ed in d]\n",
    "        inserts = [ed for ed in [L + c + R for L, R in splits for c in letters] if ed in d]\n",
    "        return set(deletes + transposes + replaces + inserts + [word])\n",
    "    \n",
    "    def get_sentences(self, text):\n",
    "        return text.lower().split('. ')\n",
    "    \n",
    "    def word_candidates(self, sent):\n",
    "        if self.check_all:\n",
    "            return [self.edits(word) for word in sent.lower().split()]\n",
    "        else:\n",
    "            return [self.edits(word) if (word not in self.dictionary) else {word} for word in sent.lower().split()]\n",
    "    \n",
    "    def sent_candidates(self, sent):\n",
    "        return [candidate for candidate in product(*self.word_candidates(sent))]\n",
    "    \n",
    "    def candidates(self, sent):\n",
    "        return [' '.join(candidate) for candidate in self.sent_candidates(sent)]"
   ]
  },
  {
   "cell_type": "code",
   "execution_count": 38,
   "metadata": {},
   "outputs": [],
   "source": [
    "class Ranker():\n",
    "    def __init__(self, lang_model, candidator):\n",
    "        self.lm = lang_model\n",
    "        self.c = candidator"
   ]
  },
  {
   "cell_type": "code",
   "execution_count": 17,
   "metadata": {},
   "outputs": [],
   "source": [
    "def cleanse(s, rgxp = '[\\W\\da-z]'):\n",
    "    return re.sub(' +', ' ', re.sub(rgxp, ' ', s.lower()))"
   ]
  },
  {
   "cell_type": "code",
   "execution_count": 9,
   "metadata": {},
   "outputs": [
    {
     "name": "stdout",
     "output_type": "stream",
     "text": [
      "Wall time: 6.11 s\n"
     ]
    }
   ],
   "source": [
    "%%time\n",
    "#open corpora\n",
    "with open('corpora.txt', encoding='utf-8') as f:\n",
    "    tokens1 = cleanse(f.read().lower()).split()"
   ]
  },
  {
   "cell_type": "code",
   "execution_count": 28,
   "metadata": {},
   "outputs": [
    {
     "name": "stdout",
     "output_type": "stream",
     "text": [
      "770034\n",
      "Wall time: 9.55 s\n"
     ]
    }
   ],
   "source": [
    "%%time\n",
    "#hagen dictionary\n",
    "f = open('hagen-orf.txt', encoding='utf-8').readlines()\n",
    "d2 = [w for w in [re.findall('^ *(.+) |', l)[0].split(' | ')[0] for l in f] if len(w)>0]\n",
    "print(len(d2))"
   ]
  },
  {
   "cell_type": "code",
   "execution_count": 23,
   "metadata": {},
   "outputs": [
    {
     "name": "stdout",
     "output_type": "stream",
     "text": [
      "2164509\n",
      "Wall time: 1.39 s\n"
     ]
    }
   ],
   "source": [
    "%%time\n",
    "#ruscorpora tokens\n",
    "f = open('ruscorp_tokens', encoding='utf-8').read()\n",
    "d3 = [w for w in f.split('\\n') if w]\n",
    "print(len(d3))"
   ]
  },
  {
   "cell_type": "code",
   "execution_count": null,
   "metadata": {},
   "outputs": [],
   "source": []
  },
  {
   "cell_type": "code",
   "execution_count": 24,
   "metadata": {},
   "outputs": [
    {
     "name": "stdout",
     "output_type": "stream",
     "text": [
      "...please wait...loading model...\n",
      "Wall time: 9.03 s\n"
     ]
    }
   ],
   "source": [
    "%%time\n",
    "#initialize model\n",
    "c = Candidator(d3, check_all=True)\n",
    "lm = LanguageModel(order=3, lambdas = [0.01, 0.09, 0.9], counts='default')"
   ]
  },
  {
   "cell_type": "code",
   "execution_count": null,
   "metadata": {},
   "outputs": [],
   "source": []
  },
  {
   "cell_type": "code",
   "execution_count": null,
   "metadata": {},
   "outputs": [],
   "source": []
  },
  {
   "cell_type": "code",
   "execution_count": null,
   "metadata": {},
   "outputs": [],
   "source": []
  },
  {
   "cell_type": "code",
   "execution_count": 25,
   "metadata": {},
   "outputs": [
    {
     "data": {
      "text/plain": [
       "-6.5972435059483105"
      ]
     },
     "execution_count": 25,
     "metadata": {},
     "output_type": "execute_result"
    }
   ],
   "source": [
    "lm.prob('есть', log=True)"
   ]
  },
  {
   "cell_type": "code",
   "execution_count": 27,
   "metadata": {},
   "outputs": [
    {
     "name": "stdout",
     "output_type": "stream",
     "text": [
      "Wall time: 15.5 ms\n"
     ]
    }
   ],
   "source": [
    "%%time\n",
    "cand_list = c.candidates('школа жлословия')\n",
    "cand_probs = sorted([(cand, lm.prob(cand, log=True)) for cand in cand_list], \n",
    "                    key=lambda x:x[1], reverse=True)"
   ]
  },
  {
   "cell_type": "code",
   "execution_count": 28,
   "metadata": {},
   "outputs": [
    {
     "data": {
      "text/plain": [
       "[('школу злословия', -23.129950530430012),\n",
       " ('школы злословия', -24.093610290439713),\n",
       " ('школы жлословия', -24.118459356937592),\n",
       " ('школе злословия', -24.282921020469818),\n",
       " ('школе жлословия', -24.307770086967697),\n",
       " ('школу жлословия', -24.527231014436584),\n",
       " ('школа злословия', -24.962734768770041),\n",
       " ('школа жлословия', -24.98758383526792),\n",
       " ('школ злословия', -25.536953000391911),\n",
       " ('школ жлословия', -25.561802066889793)]"
      ]
     },
     "execution_count": 28,
     "metadata": {},
     "output_type": "execute_result"
    }
   ],
   "source": [
    "cand_probs[:10]"
   ]
  },
  {
   "cell_type": "code",
   "execution_count": 147,
   "metadata": {},
   "outputs": [
    {
     "name": "stdout",
     "output_type": "stream",
     "text": [
      "Wall time: 586 ms\n"
     ]
    }
   ],
   "source": [
    "%%time\n",
    "c = Candidator(d3, check_all=True)"
   ]
  },
  {
   "cell_type": "code",
   "execution_count": 29,
   "metadata": {},
   "outputs": [
    {
     "name": "stdout",
     "output_type": "stream",
     "text": [
      "Wall time: 1.13 s\n"
     ]
    }
   ],
   "source": [
    "%%time\n",
    "cand_list = c.candidates('пошел на жработу')\n",
    "cand_probs = sorted([(cand, lm.prob(cand, log=True)) for cand in cand_list], \n",
    "                    key=lambda x:x[1], reverse=True)"
   ]
  },
  {
   "cell_type": "code",
   "execution_count": 30,
   "metadata": {},
   "outputs": [
    {
     "data": {
      "text/plain": [
       "[('пошел на работу', -26.619422179179061),\n",
       " ('пошел на жработу', -30.606198045060964),\n",
       " ('пошел за работу', -31.238755316214494),\n",
       " ('пошел за жработу', -31.959942075696514),\n",
       " ('пошел а работу', -32.316039600637453),\n",
       " ('прошел на работу', -32.578627674202906),\n",
       " ('пошел а жработу', -32.686962533289517),\n",
       " ('пошел не работу', -32.738626591133951),\n",
       " ('пошел не жработу', -33.06357521764707),\n",
       " ('пошел но работу', -33.344892891710543)]"
      ]
     },
     "execution_count": 30,
     "metadata": {},
     "output_type": "execute_result"
    }
   ],
   "source": [
    "cand_probs[:10]"
   ]
  },
  {
   "cell_type": "code",
   "execution_count": 51,
   "metadata": {},
   "outputs": [
    {
     "data": {
      "text/plain": [
       "[{'россея',\n",
       "  'росси',\n",
       "  'россиз',\n",
       "  'россии',\n",
       "  'россий',\n",
       "  'россиу',\n",
       "  'россию',\n",
       "  'россия',\n",
       "  'россиян',\n",
       "  'россиях',\n",
       "  'росссия',\n",
       "  'росция',\n",
       "  'руссия'},\n",
       " {'ржссия', 'россия', 'руссия'},\n",
       " {'федераци',\n",
       "  'федерации',\n",
       "  'федераций',\n",
       "  'федерацию',\n",
       "  'федерация',\n",
       "  'федерациям',\n",
       "  'федерациях'},\n",
       " {'модерация', 'федерация', 'фодерация'}]"
      ]
     },
     "execution_count": 51,
     "metadata": {},
     "output_type": "execute_result"
    }
   ],
   "source": [
    "c.word_candidates('россия ржссия федерация фодерация')"
   ]
  },
  {
   "cell_type": "code",
   "execution_count": 52,
   "metadata": {},
   "outputs": [
    {
     "name": "stdout",
     "output_type": "stream",
     "text": [
      "Wall time: 15.2 ms\n"
     ]
    }
   ],
   "source": [
    "%%time\n",
    "cand_list = c.candidates('в ржссию')\n",
    "cand_probs = sorted([(cand, lm.prob(cand, log=True)) for cand in cand_list], \n",
    "                    key=lambda x:x[1], reverse=True)"
   ]
  },
  {
   "cell_type": "code",
   "execution_count": 53,
   "metadata": {},
   "outputs": [
    {
     "data": {
      "text/plain": [
       "[('в россию', -11.028868680610294),\n",
       " ('и россию', -14.202185246660072),\n",
       " ('а россию', -17.462553327810316),\n",
       " ('я россию', -18.52639598157851),\n",
       " ('и руссию', -19.104189647565324),\n",
       " ('и ржссию', -19.118052591176525),\n",
       " ('в руссию', -19.156969810616122),\n",
       " ('в ржссию', -19.17083275422732),\n",
       " ('с россию', -19.633803812151996),\n",
       " ('с руссию', -19.709362863088106)]"
      ]
     },
     "execution_count": 53,
     "metadata": {},
     "output_type": "execute_result"
    }
   ],
   "source": [
    "cand_probs[:10]"
   ]
  },
  {
   "cell_type": "code",
   "execution_count": 54,
   "metadata": {},
   "outputs": [
    {
     "name": "stdout",
     "output_type": "stream",
     "text": [
      "Wall time: 10.8 ms\n"
     ]
    }
   ],
   "source": [
    "%%time\n",
    "cand_list = c.candidates('вкучный обет')\n",
    "cand_probs = sorted([(cand, lm.prob(cand, log=True)) for cand in cand_list], \n",
    "                    key=lambda x:x[1], reverse=True)"
   ]
  },
  {
   "cell_type": "code",
   "execution_count": 55,
   "metadata": {},
   "outputs": [
    {
     "data": {
      "text/plain": [
       "[('вкусный обед', -24.30227677610586),\n",
       " ('вкусный обе', -27.310351774023435),\n",
       " ('вкусный одет', -27.326745531639681),\n",
       " ('вкусный орет', -27.331101799724927),\n",
       " ('вкусный обер', -27.338192005022091),\n",
       " ('вкусный обет', -27.342407949922471),\n",
       " ('вкусный бет', -27.356517819659572),\n",
       " ('вкусный обут', -27.357207748374442),\n",
       " ('вкусный облет', -27.35757142481615),\n",
       " ('вкусный обеты', -27.358341035227511)]"
      ]
     },
     "execution_count": 55,
     "metadata": {},
     "output_type": "execute_result"
    }
   ],
   "source": [
    "cand_probs[:10]"
   ]
  },
  {
   "cell_type": "code",
   "execution_count": 56,
   "metadata": {},
   "outputs": [
    {
     "data": {
      "text/plain": [
       "120757"
      ]
     },
     "execution_count": 56,
     "metadata": {},
     "output_type": "execute_result"
    }
   ],
   "source": [
    "lm.counts['n1']['без']"
   ]
  },
  {
   "cell_type": "code",
   "execution_count": 57,
   "metadata": {},
   "outputs": [
    {
     "data": {
      "text/plain": [
       "-24.30227677610586"
      ]
     },
     "execution_count": 57,
     "metadata": {},
     "output_type": "execute_result"
    }
   ],
   "source": [
    "lm.prob('вкусный обед', log=True)"
   ]
  },
  {
   "cell_type": "code",
   "execution_count": 58,
   "metadata": {},
   "outputs": [
    {
     "data": {
      "text/plain": [
       "-27.342407949922471"
      ]
     },
     "execution_count": 58,
     "metadata": {},
     "output_type": "execute_result"
    }
   ],
   "source": [
    "lm.prob('вкусный обет', log=True)"
   ]
  },
  {
   "cell_type": "code",
   "execution_count": 59,
   "metadata": {},
   "outputs": [
    {
     "data": {
      "text/plain": [
       "[('и', 30, 1.174672247496622e-05),\n",
       " ('обед', 20, 7.957457160460987e-06),\n",
       " ('запах', 19, 7.578530629010464e-06),\n",
       " ('чай', 9, 3.789265314505232e-06),\n",
       " ('ужин', 9, 3.789265314505232e-06),\n",
       " ('кофе', 9, 3.789265314505232e-06),\n",
       " ('суп', 8, 3.4103387830547085e-06),\n",
       " ('как', 5, 2.2735591887031393e-06),\n",
       " ('а', 5, 2.2735591887031393e-06),\n",
       " ('торт', 4, 1.894632657252616e-06),\n",
       " ('пирог', 4, 1.894632657252616e-06),\n",
       " ('борщ', 3, 1.5157061258020928e-06),\n",
       " ('в', 3, 1.5157061258020928e-06),\n",
       " ('он', 3, 1.5157061258020928e-06),\n",
       " ('дым', 3, 1.5157061258020928e-06),\n",
       " ('хлеб', 3, 1.5157061258020928e-06),\n",
       " ('если', 3, 1.5157061258020928e-06),\n",
       " ('что', 3, 1.5157061258020928e-06),\n",
       " ('но', 3, 1.5157061258020928e-06)]"
      ]
     },
     "execution_count": 59,
     "metadata": {},
     "output_type": "execute_result"
    }
   ],
   "source": [
    "lm.following('вкусный')"
   ]
  },
  {
   "cell_type": "code",
   "execution_count": null,
   "metadata": {},
   "outputs": [],
   "source": []
  },
  {
   "cell_type": "code",
   "execution_count": null,
   "metadata": {},
   "outputs": [],
   "source": []
  },
  {
   "cell_type": "code",
   "execution_count": null,
   "metadata": {},
   "outputs": [],
   "source": []
  }
 ],
 "metadata": {
  "kernelspec": {
   "display_name": "Python 3",
   "language": "python",
   "name": "python3"
  },
  "language_info": {
   "codemirror_mode": {
    "name": "ipython",
    "version": 3
   },
   "file_extension": ".py",
   "mimetype": "text/x-python",
   "name": "python",
   "nbconvert_exporter": "python",
   "pygments_lexer": "ipython3",
   "version": "3.6.2"
  }
 },
 "nbformat": 4,
 "nbformat_minor": 2
}
