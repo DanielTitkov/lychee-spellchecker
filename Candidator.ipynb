{
 "cells": [
  {
   "cell_type": "code",
   "execution_count": 2,
   "metadata": {},
   "outputs": [],
   "source": [
    "import re\n",
    "from itertools import product"
   ]
  },
  {
   "cell_type": "code",
   "execution_count": 3,
   "metadata": {},
   "outputs": [],
   "source": [
    "test = 'Это проверочный текст. Он состоит из предложений. Предложений в нем три или четыре штуки.'"
   ]
  },
  {
   "cell_type": "code",
   "execution_count": 24,
   "metadata": {},
   "outputs": [],
   "source": [
    "class Candidator():\n",
    "    def __init__(self, dictionary, abc='йцукенгшщзхъфывапролджэячсмитьбю'):\n",
    "        self.abc = abc\n",
    "        self.dictionary = set(dictionary)\n",
    "        \n",
    "    def edits(self, word): # mostly from norvig, modified for faster dict search\n",
    "        letters = self.abc\n",
    "        d = self.dictionary\n",
    "        splits = [(word[:i], word[i:]) for i in range(len(word) + 1)]\n",
    "        deletes = [ed for ed in [L + R[1:] for L, R in splits if R] if ed in d]\n",
    "        transposes = [ed for ed in [L + R[1] + R[0] + R[2:] for L, R in splits if len(R)>1] if ed in d]\n",
    "        replaces = [ed for ed in [L + c + R[1:] for L, R in splits if R for c in letters] if ed in d]\n",
    "        inserts = [ed for ed in [L + c + R for L, R in splits for c in letters] if ed in d]\n",
    "        return set(deletes + transposes + replaces + inserts + [word])\n",
    "    \n",
    "    def get_sentences(self, text):\n",
    "        return text.lower().split('. ')\n",
    "    \n",
    "    def word_candidates(self, sent):\n",
    "        return [self.edits(word) for word in sent.lower().split()]\n",
    "    \n",
    "    def sent_candidates(self, sent):\n",
    "        return [candidate for candidate in product(*self.word_candidates(sent))]\n",
    "            "
   ]
  },
  {
   "cell_type": "code",
   "execution_count": 25,
   "metadata": {},
   "outputs": [],
   "source": [
    "d = open('russian.txt', encoding='utf-8').read().split('\\n')"
   ]
  },
  {
   "cell_type": "code",
   "execution_count": 26,
   "metadata": {},
   "outputs": [],
   "source": [
    "c = Candidator(d)"
   ]
  },
  {
   "cell_type": "code",
   "execution_count": 27,
   "metadata": {},
   "outputs": [
    {
     "name": "stdout",
     "output_type": "stream",
     "text": [
      "Wall time: 375 ms\n"
     ]
    },
    {
     "data": {
      "text/plain": [
       "505568"
      ]
     },
     "execution_count": 27,
     "metadata": {},
     "output_type": "execute_result"
    }
   ],
   "source": [
    "%%time\n",
    "# we have a problem\n",
    "len(c.sent_candidates('Кот ест вкусный суп'))"
   ]
  },
  {
   "cell_type": "code",
   "execution_count": null,
   "metadata": {},
   "outputs": [],
   "source": []
  }
 ],
 "metadata": {
  "kernelspec": {
   "display_name": "Python 3",
   "language": "python",
   "name": "python3"
  },
  "language_info": {
   "codemirror_mode": {
    "name": "ipython",
    "version": 3
   },
   "file_extension": ".py",
   "mimetype": "text/x-python",
   "name": "python",
   "nbconvert_exporter": "python",
   "pygments_lexer": "ipython3",
   "version": "3.6.2"
  }
 },
 "nbformat": 4,
 "nbformat_minor": 2
}
