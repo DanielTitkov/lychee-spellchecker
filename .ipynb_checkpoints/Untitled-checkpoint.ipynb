{
 "cells": [
  {
   "cell_type": "code",
   "execution_count": 8,
   "metadata": {},
   "outputs": [],
   "source": [
    "# -*- codecs:utf-8 -*-\n",
    "\n",
    "import codecs\n",
    "import os\n",
    "import lxml.html\n",
    "import string\n",
    "from tqdm import tqdm"
   ]
  },
  {
   "cell_type": "code",
   "execution_count": 9,
   "metadata": {},
   "outputs": [],
   "source": [
    "PATH = 'texts/source/post1950'\n",
    "\n",
    "\n",
    "def corpus(fname):\n",
    "    '''получает на вход путь к файлу, открывает файл с xml, возвращает строку с текстом файла без тегов'''\n",
    "    f = codecs.open(fname, 'r', 'utf-8')\n",
    "    myfile = f.read().split('\\n', 1)[1]\n",
    "    tree = lxml.html.fromstring(myfile)\n",
    "    content = tree.xpath('.//p')\n",
    "    text = ''\n",
    "    for el in content:\n",
    "    \tif el.text != None:\n",
    "    \t\ttext += '\\n' + el.text\n",
    "    f.close()\n",
    "    return text\n",
    "\n",
    "\n",
    "def extractor_of_text():\n",
    "    f = codecs.open('ruscorpora', 'w', 'utf-8')\n",
    "    for d, dirs, files in tqdm(os.walk(PATH)):\n",
    "        for fi in files:\n",
    "            text = corpus(os.path.join(d, fi))\n",
    "            f.write(text)\n",
    "    f.close()\n",
    "\n",
    "\n",
    "def fd_of_corp():\n",
    "    f = codecs.open('ruscorp_fd', 'w', 'utf-8')\n",
    "    di = {}\n",
    "    for d, dirs, files in os.walk(PATH):\n",
    "        for fi in files:\n",
    "            text = corpus(os.path.join(d, fi))\n",
    "            di = fd(di, text)\n",
    "    res = [el + ' : ' + str(di[el]) for el in sorted(di, key=lambda x: -di[x])] \n",
    "    f.write('\\n'.join(res))\n",
    "    f.close()\n",
    "\n",
    "\n",
    "def fd(di, text):\n",
    "    for word in text.lower().split():\n",
    "        word = word.strip(string.punctuation)\n",
    "        if word in di:\n",
    "            di[word] += 1\n",
    "        else:\n",
    "            di[word] = 1\n",
    "    return di "
   ]
  },
  {
   "cell_type": "code",
   "execution_count": 7,
   "metadata": {},
   "outputs": [],
   "source": [
    "# extractor_of_text()\n",
    "fd_of_corp()"
   ]
  },
  {
   "cell_type": "code",
   "execution_count": 11,
   "metadata": {},
   "outputs": [
    {
     "name": "stderr",
     "output_type": "stream",
     "text": [
      "0it [00:00, ?it/s]\n"
     ]
    }
   ],
   "source": [
    "extractor_of_text()"
   ]
  }
 ],
 "metadata": {
  "kernelspec": {
   "display_name": "Python 3",
   "language": "python",
   "name": "python3"
  },
  "language_info": {
   "codemirror_mode": {
    "name": "ipython",
    "version": 3
   },
   "file_extension": ".py",
   "mimetype": "text/x-python",
   "name": "python",
   "nbconvert_exporter": "python",
   "pygments_lexer": "ipython3",
   "version": "3.6.2"
  }
 },
 "nbformat": 4,
 "nbformat_minor": 2
}
