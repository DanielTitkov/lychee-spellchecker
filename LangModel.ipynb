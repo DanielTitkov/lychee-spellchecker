{
 "cells": [
  {
   "cell_type": "code",
   "execution_count": 1,
   "metadata": {},
   "outputs": [],
   "source": [
    "import tqdm\n",
    "import re\n",
    "import numpy as np\n",
    "from collections import Counter"
   ]
  },
  {
   "cell_type": "code",
   "execution_count": null,
   "metadata": {},
   "outputs": [],
   "source": []
  },
  {
   "cell_type": "code",
   "execution_count": 2,
   "metadata": {},
   "outputs": [],
   "source": [
    "class LanguageModel():\n",
    "    def __init__(self, order=2):\n",
    "        self.order=order\n",
    "        \n",
    "    def product(self, nums):\n",
    "        \"Multiply the numbers together.  (Like `sum`, but with multiplication.)\"\n",
    "        result = 1\n",
    "        for x in nums: result *= x\n",
    "        return result\n",
    "\n",
    "    def get_ngrams(self, tokens, n):\n",
    "        return [' '.join(tokens[i:i+n]) for i, token in enumerate(tokens)]\n",
    "    \n",
    "    def get_counts(self, corpus, order):  \n",
    "        counts = {'n' + str(i) : Counter(self.get_ngrams(corpus, n=i)) for i in range(1, order+1)}\n",
    "        counts['n0'] = {'':len(corpus)}\n",
    "        return counts\n",
    "    \n",
    "    def get_prob(self, counts, word, context=''):\n",
    "        '''With Laplace shoothing as yet.\n",
    "        Not for public use.'''\n",
    "        order = len(context.split())+1\n",
    "        separator = ' ' if order > 1 else ''\n",
    "        return (counts['n'+str(order)][separator.join([context, word])] + 1) / \\\n",
    "               (counts['n'+str(order-1)][context] + len(counts['n'+str(order)]))\n",
    "        \n",
    "    def get_logprob(self, counts, word, context=''):\n",
    "        return np.log(self.get_prob(counts, word, context))\n",
    "    \n",
    "    def get_following(self, counts, context):\n",
    "        '''Slow as hell. \n",
    "        To optimize might use embedded dictionaries.'''\n",
    "        order = len(context.split())+1\n",
    "        return sorted(\n",
    "            [(k.split()[-1], v, self.get_prob(counts, k.split()[-1], context)) \\\n",
    "            for k, v in counts['n'+str(order)].items()                         \\\n",
    "            if re.match(context+' '+'\\w+', k)],                                \\\n",
    "            key=lambda x:x[1], reverse=True)   \n",
    "    \n",
    "    def get_string_probs(self, counts, string, order, log=True):\n",
    "        prob_fun = self.get_logprob if log else self.get_prob\n",
    "        tokens = string.split()\n",
    "        probs = []\n",
    "        for i in range(len(tokens)):\n",
    "            context = ' '.join(tokens[i-order+1:i]) if i>=order else ' '.join(tokens[:i])\n",
    "            prob = prob_fun(counts, word = tokens[i], context = context)\n",
    "            probs.append(prob)\n",
    "        return probs\n",
    "    \n",
    "    def interpolate(self, counts, string, order, log=True, lambdas='default'):\n",
    "        lmbd = [0.3, 0.7, 0.0] if lambdas == 'default' else lambdas\n",
    "        aggregate = sum if log else self.product\n",
    "        probs = [self.get_string_probs(counts, string, order=i, log=log) \\\n",
    "                 for i in range(1, order+1)]\n",
    "        probs_interpolated = []\n",
    "        for tup in zip(*probs):\n",
    "            prob_token = 0\n",
    "            for i in range(len(tup)):\n",
    "                prob_token += tup[i] * lmbd[i]\n",
    "            probs_interpolated.append(prob_token)\n",
    "        return aggregate(probs_interpolated)\n",
    "    \n",
    "    def fit(self, corpus):\n",
    "        self.counts = self.get_counts(corpus, self.order)\n",
    "        \n",
    "    def prob(self, string, log=False):\n",
    "        return self.interpolate(self.counts, string, self.order, log=log)\n",
    "    \n",
    "    def context_prob(self, word, context='', log=False):\n",
    "        prob_fun = self.get_logprob if log else self.get_prob\n",
    "        c = context.split()\n",
    "        history = ' '.join(c) if len(c) < self.order else ' '.join(c[-self.order+1:])\n",
    "        return prob_fun(self.counts, word, history)  \n",
    "    \n",
    "    def following(self, context):\n",
    "        c = context.split()\n",
    "        history = ' '.join(c) if len(c) < self.order else ' '.join(c[-self.order+1:])\n",
    "        return self.get_following(self.counts, history)"
   ]
  },
  {
   "cell_type": "code",
   "execution_count": null,
   "metadata": {},
   "outputs": [],
   "source": []
  },
  {
   "cell_type": "code",
   "execution_count": 3,
   "metadata": {},
   "outputs": [],
   "source": [
    "def cleanse(s, rgxp = '[\\W\\da-z]'):\n",
    "    return re.sub(' +', ' ', re.sub(rgxp, ' ', s.lower()))"
   ]
  },
  {
   "cell_type": "code",
   "execution_count": 12,
   "metadata": {},
   "outputs": [],
   "source": [
    "with open('corpora.txt', encoding='utf-8') as f:\n",
    "    tokens1 = cleanse(f.read().lower()).split()"
   ]
  },
  {
   "cell_type": "code",
   "execution_count": 13,
   "metadata": {},
   "outputs": [],
   "source": [
    "with open('lt1.txt', encoding='utf-8') as f:\n",
    "    tokens2 = cleanse(f.read().lower()).split()"
   ]
  },
  {
   "cell_type": "code",
   "execution_count": 15,
   "metadata": {},
   "outputs": [
    {
     "data": {
      "text/plain": [
       "1549458"
      ]
     },
     "execution_count": 15,
     "metadata": {},
     "output_type": "execute_result"
    }
   ],
   "source": [
    "len(tokens1)\n",
    "# tokens[:100]"
   ]
  },
  {
   "cell_type": "code",
   "execution_count": 27,
   "metadata": {},
   "outputs": [
    {
     "name": "stdout",
     "output_type": "stream",
     "text": [
      "Wall time: 5.94 s\n"
     ]
    }
   ],
   "source": [
    "%%time\n",
    "model = LanguageModel(order=3)\n",
    "model.fit(tokens1)"
   ]
  },
  {
   "cell_type": "code",
   "execution_count": 28,
   "metadata": {},
   "outputs": [
    {
     "name": "stdout",
     "output_type": "stream",
     "text": [
      "Wall time: 0 ns\n"
     ]
    },
    {
     "data": {
      "text/plain": [
       "4.095833133417668e-06"
      ]
     },
     "execution_count": 28,
     "metadata": {},
     "output_type": "execute_result"
    }
   ],
   "source": [
    "%%time\n",
    "model.prob('наташа')"
   ]
  },
  {
   "cell_type": "code",
   "execution_count": 29,
   "metadata": {},
   "outputs": [
    {
     "name": "stdout",
     "output_type": "stream",
     "text": [
      "Wall time: 0 ns\n"
     ]
    },
    {
     "data": {
      "text/plain": [
       "5.851190190596669e-07"
      ]
     },
     "execution_count": 29,
     "metadata": {},
     "output_type": "execute_result"
    }
   ],
   "source": [
    "%%time\n",
    "model.prob('череззаборногузадирищекно')"
   ]
  },
  {
   "cell_type": "code",
   "execution_count": 32,
   "metadata": {},
   "outputs": [
    {
     "name": "stdout",
     "output_type": "stream",
     "text": [
      "Wall time: 0 ns\n"
     ]
    },
    {
     "data": {
      "text/plain": [
       "1.7681723525851077e-17"
      ]
     },
     "execution_count": 32,
     "metadata": {},
     "output_type": "execute_result"
    }
   ],
   "source": [
    "%%time\n",
    "model.prob('сегодня я купил газету')"
   ]
  },
  {
   "cell_type": "code",
   "execution_count": 42,
   "metadata": {},
   "outputs": [
    {
     "name": "stdout",
     "output_type": "stream",
     "text": [
      "Wall time: 0 ns\n"
     ]
    },
    {
     "data": {
      "text/plain": [
       "2.7964746635527687e-18"
      ]
     },
     "execution_count": 42,
     "metadata": {},
     "output_type": "execute_result"
    }
   ],
   "source": [
    "%%time\n",
    "model.prob('сегодня я купил кукушку')"
   ]
  },
  {
   "cell_type": "code",
   "execution_count": 43,
   "metadata": {},
   "outputs": [
    {
     "name": "stdout",
     "output_type": "stream",
     "text": [
      "Wall time: 0 ns\n"
     ]
    },
    {
     "data": {
      "text/plain": [
       "2.7964746635527687e-18"
      ]
     },
     "execution_count": 43,
     "metadata": {},
     "output_type": "execute_result"
    }
   ],
   "source": [
    "%%time\n",
    "model.prob('сегодня я купил уключинозакрыватель')"
   ]
  },
  {
   "cell_type": "code",
   "execution_count": 34,
   "metadata": {},
   "outputs": [
    {
     "name": "stdout",
     "output_type": "stream",
     "text": [
      "Wall time: 0 ns\n"
     ]
    },
    {
     "data": {
      "text/plain": [
       "3.0274188709422195e-26"
      ]
     },
     "execution_count": 34,
     "metadata": {},
     "output_type": "execute_result"
    }
   ],
   "source": [
    "%%time\n",
    "model.prob('наташа и череззаборногузадирищекно не хотели ехать')"
   ]
  },
  {
   "cell_type": "code",
   "execution_count": 35,
   "metadata": {},
   "outputs": [
    {
     "name": "stdout",
     "output_type": "stream",
     "text": [
      "Wall time: 0 ns\n"
     ]
    },
    {
     "data": {
      "text/plain": [
       "1.9372730363558344e-06"
      ]
     },
     "execution_count": 35,
     "metadata": {},
     "output_type": "execute_result"
    }
   ],
   "source": [
    "%%time\n",
    "model.context_prob('наташа', 'и')"
   ]
  },
  {
   "cell_type": "code",
   "execution_count": 36,
   "metadata": {},
   "outputs": [
    {
     "name": "stdout",
     "output_type": "stream",
     "text": [
      "Wall time: 0 ns\n"
     ]
    },
    {
     "data": {
      "text/plain": [
       "7.13835488045754e-07"
      ]
     },
     "execution_count": 36,
     "metadata": {},
     "output_type": "execute_result"
    }
   ],
   "source": [
    "%%time\n",
    "model.context_prob('наташа', 'герцог чубакка и')\n",
    "# same as previous cause model with order 2 (bigram) takes into consideration only k-1 word"
   ]
  },
  {
   "cell_type": "code",
   "execution_count": 37,
   "metadata": {},
   "outputs": [
    {
     "name": "stdout",
     "output_type": "stream",
     "text": [
      "Wall time: 2.09 s\n"
     ]
    },
    {
     "data": {
      "text/plain": [
       "[('как', 7, 8.169475774951365e-06),\n",
       " ('в', 6, 7.148291303082445e-06),\n",
       " ('что', 4, 5.1059223593446035e-06),\n",
       " ('на', 4, 5.1059223593446035e-06),\n",
       " ('группу', 3, 4.084737887475683e-06),\n",
       " ('бы', 2, 3.063553415606762e-06),\n",
       " ('я', 2, 3.063553415606762e-06),\n",
       " ('его', 2, 3.063553415606762e-06),\n",
       " ('себя', 2, 3.063553415606762e-06),\n",
       " ('фильм', 2, 3.063553415606762e-06),\n",
       " ('но', 2, 3.063553415606762e-06),\n",
       " ('ее', 2, 3.063553415606762e-06),\n",
       " ('он', 2, 3.063553415606762e-06),\n",
       " ('духов', 2, 3.063553415606762e-06),\n",
       " ('чудо', 1, 2.0423689437378413e-06),\n",
       " ('то', 1, 2.0423689437378413e-06),\n",
       " ('результаты', 1, 2.0423689437378413e-06),\n",
       " ('совершенно', 1, 2.0423689437378413e-06),\n",
       " ('наготу', 1, 2.0423689437378413e-06),\n",
       " ('плюсы', 1, 2.0423689437378413e-06),\n",
       " ('признаки', 1, 2.0423689437378413e-06),\n",
       " ('своего', 1, 2.0423689437378413e-06),\n",
       " ('извозчика', 1, 2.0423689437378413e-06),\n",
       " ('пост', 1, 2.0423689437378413e-06),\n",
       " ('геракл', 1, 2.0423689437378413e-06),\n",
       " ('множество', 1, 2.0423689437378413e-06),\n",
       " ('еще', 1, 2.0423689437378413e-06),\n",
       " ('невообразимое', 1, 2.0423689437378413e-06),\n",
       " ('четырех', 1, 2.0423689437378413e-06),\n",
       " ('практически', 1, 2.0423689437378413e-06),\n",
       " ('первую', 1, 2.0423689437378413e-06),\n",
       " ('выхода', 1, 2.0423689437378413e-06),\n",
       " ('несколько', 1, 2.0423689437378413e-06),\n",
       " ('далеко', 1, 2.0423689437378413e-06),\n",
       " ('если', 1, 2.0423689437378413e-06),\n",
       " ('живой', 1, 2.0423689437378413e-06),\n",
       " ('перед', 1, 2.0423689437378413e-06),\n",
       " ('мотороллер', 1, 2.0423689437378413e-06),\n",
       " ('вариант', 1, 2.0423689437378413e-06),\n",
       " ('только', 1, 2.0423689437378413e-06),\n",
       " ('кроме', 1, 2.0423689437378413e-06),\n",
       " ('необычное', 1, 2.0423689437378413e-06),\n",
       " ('сухое', 1, 2.0423689437378413e-06),\n",
       " ('слов', 1, 2.0423689437378413e-06),\n",
       " ('такой', 1, 2.0423689437378413e-06),\n",
       " ('валерия', 1, 2.0423689437378413e-06),\n",
       " ('однажды', 1, 2.0423689437378413e-06),\n",
       " ('ролик', 1, 2.0423689437378413e-06),\n",
       " ('и', 1, 2.0423689437378413e-06),\n",
       " ('знакомые', 1, 2.0423689437378413e-06)]"
      ]
     },
     "execution_count": 37,
     "metadata": {},
     "output_type": "execute_result"
    }
   ],
   "source": [
    "%%time\n",
    "model.following('увидел')"
   ]
  },
  {
   "cell_type": "code",
   "execution_count": 38,
   "metadata": {},
   "outputs": [
    {
     "name": "stdout",
     "output_type": "stream",
     "text": [
      "Wall time: 3.19 s\n"
     ]
    },
    {
     "data": {
      "text/plain": [
       "[('как', 3, 2.8553174934595385e-06),\n",
       " ('группу', 2, 2.1414881200946537e-06),\n",
       " ('чудо', 1, 1.4276587467297692e-06),\n",
       " ('результаты', 1, 1.4276587467297692e-06),\n",
       " ('но', 1, 1.4276587467297692e-06),\n",
       " ('еще', 1, 1.4276587467297692e-06),\n",
       " ('практически', 1, 1.4276587467297692e-06),\n",
       " ('в', 1, 1.4276587467297692e-06),\n",
       " ('себя', 1, 1.4276587467297692e-06)]"
      ]
     },
     "execution_count": 38,
     "metadata": {},
     "output_type": "execute_result"
    }
   ],
   "source": [
    "%%time\n",
    "model.following('когда утуб наконец-то загрузился он увидел')\n",
    "# same as previous cause model with order 2 (bigram) takes into consideration only k-1 word"
   ]
  },
  {
   "cell_type": "code",
   "execution_count": 39,
   "metadata": {},
   "outputs": [
    {
     "name": "stdout",
     "output_type": "stream",
     "text": [
      "Wall time: 2.13 s\n"
     ]
    },
    {
     "data": {
      "text/plain": [
       "[]"
      ]
     },
     "execution_count": 39,
     "metadata": {},
     "output_type": "execute_result"
    }
   ],
   "source": [
    "%%time\n",
    "model.following('чубакка')"
   ]
  },
  {
   "cell_type": "code",
   "execution_count": 40,
   "metadata": {},
   "outputs": [
    {
     "name": "stdout",
     "output_type": "stream",
     "text": [
      "n1 [('в', 60069), ('и', 53202), ('на', 25000), ('не', 20776), ('с', 17257), ('что', 16570)]\n",
      "n2 [('в году', 1801), ('и в', 1444), ('российской федерации', 1253), ('в том', 1248), ('и не', 1153), ('том что', 1075)]\n",
      "n3 [('о том что', 639), ('в том числе', 579), ('в том что', 381), ('в соответствии с', 379), ('и т д', 323), ('в связи с', 308)]\n"
     ]
    }
   ],
   "source": [
    "for k, v in model.counts.items():\n",
    "    if k != 'n0': print(k, v.most_common(6))"
   ]
  }
 ],
 "metadata": {
  "kernelspec": {
   "display_name": "Python 3",
   "language": "python",
   "name": "python3"
  },
  "language_info": {
   "codemirror_mode": {
    "name": "ipython",
    "version": 3
   },
   "file_extension": ".py",
   "mimetype": "text/x-python",
   "name": "python",
   "nbconvert_exporter": "python",
   "pygments_lexer": "ipython3",
   "version": "3.6.2"
  }
 },
 "nbformat": 4,
 "nbformat_minor": 2
}
